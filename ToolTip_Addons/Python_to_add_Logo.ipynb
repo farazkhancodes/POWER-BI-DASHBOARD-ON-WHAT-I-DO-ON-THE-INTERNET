{
 "cells": [
  {
   "cell_type": "code",
   "execution_count": 1,
   "metadata": {},
   "outputs": [
    {
     "data": {
      "text/html": [
       "<div>\n",
       "<style scoped>\n",
       "    .dataframe tbody tr th:only-of-type {\n",
       "        vertical-align: middle;\n",
       "    }\n",
       "\n",
       "    .dataframe tbody tr th {\n",
       "        vertical-align: top;\n",
       "    }\n",
       "\n",
       "    .dataframe thead th {\n",
       "        text-align: right;\n",
       "    }\n",
       "</style>\n",
       "<table border=\"1\" class=\"dataframe\">\n",
       "  <thead>\n",
       "    <tr style=\"text-align: right;\">\n",
       "      <th></th>\n",
       "      <th>client_id</th>\n",
       "    </tr>\n",
       "  </thead>\n",
       "  <tbody>\n",
       "    <tr>\n",
       "      <th>0</th>\n",
       "      <td>hh4QgrDVdFOlJPW3v893OA==</td>\n",
       "    </tr>\n",
       "    <tr>\n",
       "      <th>1</th>\n",
       "      <td>hh4QgrDVdFOlJPW3v893OA==</td>\n",
       "    </tr>\n",
       "    <tr>\n",
       "      <th>2</th>\n",
       "      <td>hh4QgrDVdFOlJPW3v893OA==</td>\n",
       "    </tr>\n",
       "    <tr>\n",
       "      <th>3</th>\n",
       "      <td>hh4QgrDVdFOlJPW3v893OA==</td>\n",
       "    </tr>\n",
       "    <tr>\n",
       "      <th>4</th>\n",
       "      <td>hh4QgrDVdFOlJPW3v893OA==</td>\n",
       "    </tr>\n",
       "  </tbody>\n",
       "</table>\n",
       "</div>"
      ],
      "text/plain": [
       "                  client_id\n",
       "0  hh4QgrDVdFOlJPW3v893OA==\n",
       "1  hh4QgrDVdFOlJPW3v893OA==\n",
       "2  hh4QgrDVdFOlJPW3v893OA==\n",
       "3  hh4QgrDVdFOlJPW3v893OA==\n",
       "4  hh4QgrDVdFOlJPW3v893OA=="
      ]
     },
     "execution_count": 1,
     "metadata": {},
     "output_type": "execute_result"
    }
   ],
   "source": [
    "import pandas as pd\n",
    "data=pd.read_excel('Z:\\Fuzzy-Data\\My BI Project\\DATA\\Data.xlsx')\n",
    "data=data.client_id\n",
    "data=pd.DataFrame(data)\n",
    "data.head()"
   ]
  },
  {
   "cell_type": "code",
   "execution_count": 2,
   "metadata": {},
   "outputs": [
    {
     "data": {
      "text/plain": [
       "AJjscgG50VL3sBguZROInQ==    10818\n",
       "hh4QgrDVdFOlJPW3v893OA==     6996\n",
       "TnfJmIANrX3o8mNreweYLg==     3296\n",
       "Name: client_id, dtype: int64"
      ]
     },
     "execution_count": 2,
     "metadata": {},
     "output_type": "execute_result"
    }
   ],
   "source": [
    "data.client_id.value_counts()"
   ]
  },
  {
   "cell_type": "code",
   "execution_count": 3,
   "metadata": {},
   "outputs": [
    {
     "data": {
      "text/html": [
       "<div>\n",
       "<style scoped>\n",
       "    .dataframe tbody tr th:only-of-type {\n",
       "        vertical-align: middle;\n",
       "    }\n",
       "\n",
       "    .dataframe tbody tr th {\n",
       "        vertical-align: top;\n",
       "    }\n",
       "\n",
       "    .dataframe thead th {\n",
       "        text-align: right;\n",
       "    }\n",
       "</style>\n",
       "<table border=\"1\" class=\"dataframe\">\n",
       "  <thead>\n",
       "    <tr style=\"text-align: right;\">\n",
       "      <th></th>\n",
       "      <th>Browser/Device</th>\n",
       "    </tr>\n",
       "  </thead>\n",
       "  <tbody>\n",
       "    <tr>\n",
       "      <th>0</th>\n",
       "      <td>hh4QgrDVdFOlJPW3v893OA==</td>\n",
       "    </tr>\n",
       "    <tr>\n",
       "      <th>1</th>\n",
       "      <td>AJjscgG50VL3sBguZROInQ==</td>\n",
       "    </tr>\n",
       "    <tr>\n",
       "      <th>2</th>\n",
       "      <td>TnfJmIANrX3o8mNreweYLg==</td>\n",
       "    </tr>\n",
       "  </tbody>\n",
       "</table>\n",
       "</div>"
      ],
      "text/plain": [
       "             Browser/Device\n",
       "0  hh4QgrDVdFOlJPW3v893OA==\n",
       "1  AJjscgG50VL3sBguZROInQ==\n",
       "2  TnfJmIANrX3o8mNreweYLg=="
      ]
     },
     "execution_count": 3,
     "metadata": {},
     "output_type": "execute_result"
    }
   ],
   "source": [
    "BD=data.client_id.unique()\n",
    "BD=pd.DataFrame(BD)\n",
    "BD.columns=['Browser/Device']\n",
    "BD"
   ]
  },
  {
   "cell_type": "code",
   "execution_count": 4,
   "metadata": {},
   "outputs": [],
   "source": [
    "#DOMAIN KNOWLEDGE: user guessed which browser/device it actually is by checking for specific websites that he searches from these specific browsers/devices\n",
    "logo ={\n",
    "    'CHROME': 'https://img.icons8.com/color/452/chrome--v1.png',\n",
    "'ANDROID MOBILE':  'https://img.icons8.com/fluency/344/android.png',\n",
    "'EDGE':'https://img.icons8.com/color/344/ms-edge-new.png'\n",
    "}\n",
    "tp ={\n",
    "    'AJjscgG50VL3sBguZROInQ==': 'CHROME',\n",
    "'hh4QgrDVdFOlJPW3v893OA==':  'ANDROID MOBILE',\n",
    "'TnfJmIANrX3o8mNreweYLg==':'EDGE'\n",
    "}"
   ]
  },
  {
   "cell_type": "code",
   "execution_count": 5,
   "metadata": {},
   "outputs": [],
   "source": [
    "BD['Browser/Device'].replace(tp,inplace=True)\n",
    "BD['Logo']=BD['Browser/Device'].replace(logo)\n",
    "BD.to_excel('Device_Logo.xlsx',index=False,sheet_name='Logo')"
   ]
  }
 ],
 "metadata": {
  "interpreter": {
   "hash": "2161ba1bde8e92da04779ad10c8d79af62320855cb30b1a0b7775b9b56d4ef5f"
  },
  "kernelspec": {
   "display_name": "Python 3.10.4 64-bit",
   "language": "python",
   "name": "python3"
  },
  "language_info": {
   "codemirror_mode": {
    "name": "ipython",
    "version": 3
   },
   "file_extension": ".py",
   "mimetype": "text/x-python",
   "name": "python",
   "nbconvert_exporter": "python",
   "pygments_lexer": "ipython3",
   "version": "3.10.4"
  },
  "orig_nbformat": 4
 },
 "nbformat": 4,
 "nbformat_minor": 2
}
